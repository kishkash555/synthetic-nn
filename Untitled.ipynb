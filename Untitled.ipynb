{
 "cells": [
  {
   "cell_type": "code",
   "execution_count": 3,
   "metadata": {},
   "outputs": [],
   "source": [
    "import main\n",
    "import matplotlib.pyplot as plt"
   ]
  },
  {
   "cell_type": "code",
   "execution_count": 2,
   "metadata": {},
   "outputs": [],
   "source": [
    "u,s,v = main.get_image_svd(4, (6,5))"
   ]
  },
  {
   "cell_type": "code",
   "execution_count": 5,
   "metadata": {},
   "outputs": [
    {
     "data": {
      "text/plain": [
       "(30, 30)"
      ]
     },
     "execution_count": 5,
     "metadata": {},
     "output_type": "execute_result"
    }
   ],
   "source": [
    "u.shape"
   ]
  },
  {
   "cell_type": "code",
   "execution_count": 6,
   "metadata": {},
   "outputs": [
    {
     "data": {
      "text/plain": [
       "(12096, 12096)"
      ]
     },
     "execution_count": 6,
     "metadata": {},
     "output_type": "execute_result"
    }
   ],
   "source": [
    "v.shape"
   ]
  },
  {
   "cell_type": "code",
   "execution_count": 8,
   "metadata": {},
   "outputs": [
    {
     "data": {
      "text/plain": [
       "<matplotlib.image.AxesImage at 0x7f2acf9222e8>"
      ]
     },
     "execution_count": 8,
     "metadata": {},
     "output_type": "execute_result"
    },
    {
     "data": {
      "image/png": "[encoded data removed]",
      "text/plain": [
       "<Figure size 432x288 with 1 Axes>"
      ]
     },
     "metadata": {
      "needs_background": "light"
     },
     "output_type": "display_data"
    }
   ],
   "source": [
    "plt.imshow(u.T)"
   ]
  },
  {
   "cell_type": "code",
   "execution_count": 9,
   "metadata": {},
   "outputs": [],
   "source": [
    "u1 = u.reshape(6,5,-1)"
   ]
  },
  {
   "cell_type": "code",
   "execution_count": 10,
   "metadata": {},
   "outputs": [
    {
     "data": {
      "text/plain": [
       "(6, 5, 30)"
      ]
     },
     "execution_count": 10,
     "metadata": {},
     "output_type": "execute_result"
    }
   ],
   "source": [
    "u1.shape"
   ]
  },
  {
   "cell_type": "code",
   "execution_count": 12,
   "metadata": {},
   "outputs": [
    {
     "data": {
      "text/plain": [
       "array([[-0.18153866, -0.1886316 , -0.19029266, -0.18595381, -0.17632872],\n",
       "       [-0.18955031, -0.19877678, -0.20150305, -0.19715907, -0.18641064],\n",
       "       [-0.18885653, -0.19936329, -0.20299113, -0.19908208, -0.18832561],\n",
       "       [-0.18096599, -0.19186226, -0.19607492, -0.1928975 , -0.18304044],\n",
       "       [-0.165825  , -0.17630267, -0.18090153, -0.17883618, -0.17074291],\n",
       "       [-0.14391513, -0.15326361, -0.15807801, -0.15742193, -0.15187046]],\n",
       "      dtype=float32)"
      ]
     },
     "execution_count": 12,
     "metadata": {},
     "output_type": "execute_result"
    }
   ],
   "source": [
    "u1[:,:,0]"
   ]
  },
  {
   "cell_type": "code",
   "execution_count": 18,
   "metadata": {},
   "outputs": [
    {
     "data": {
      "text/plain": [
       "array([[-0.18153866, -0.18772966],\n",
       "       [-0.1886316 , -0.22198395],\n",
       "       [-0.19029266, -0.2443397 ],\n",
       "       [-0.18595381, -0.25085643],\n",
       "       [-0.17632872, -0.23659255],\n",
       "       [-0.18955031, -0.14080818],\n",
       "       [-0.19877678, -0.17135195],\n",
       "       [-0.20150305, -0.19351676],\n",
       "       [-0.19715907, -0.20326251],\n",
       "       [-0.18641064, -0.19509363],\n",
       "       [-0.18885653, -0.02857425],\n",
       "       [-0.19936329, -0.04520966],\n",
       "       [-0.20299113, -0.0636339 ],\n",
       "       [-0.19908208, -0.07943824],\n",
       "       [-0.18832561, -0.087327  ],\n",
       "       [-0.18096599,  0.10932861],\n",
       "       [-0.19186226,  0.11065095],\n",
       "       [-0.19607492,  0.09758951],\n",
       "       [-0.1928975 ,  0.07488645],\n",
       "       [-0.18304044,  0.04809686],\n",
       "       [-0.165825  ,  0.21525495],\n",
       "       [-0.17630267,  0.23038648],\n",
       "       [-0.18090153,  0.22173813],\n",
       "       [-0.17883618,  0.19440982],\n",
       "       [-0.17074291,  0.15435192],\n",
       "       [-0.14391513,  0.25058243],\n",
       "       [-0.15326361,  0.2694044 ],\n",
       "       [-0.15807801,  0.26317754],\n",
       "       [-0.15742193,  0.23621306],\n",
       "       [-0.15187046,  0.19427443]], dtype=float32)"
      ]
     },
     "execution_count": 18,
     "metadata": {},
     "output_type": "execute_result"
    }
   ],
   "source": [
    "u[:,:2]"
   ]
  },
  {
   "cell_type": "code",
   "execution_count": 20,
   "metadata": {},
   "outputs": [
    {
     "data": {
      "text/plain": [
       "array([[-0.18772966, -0.22198395, -0.2443397 , -0.25085643, -0.23659255],\n",
       "       [-0.14080818, -0.17135195, -0.19351676, -0.20326251, -0.19509363],\n",
       "       [-0.02857425, -0.04520966, -0.0636339 , -0.07943824, -0.087327  ],\n",
       "       [ 0.10932861,  0.11065095,  0.09758951,  0.07488645,  0.04809686],\n",
       "       [ 0.21525495,  0.23038648,  0.22173813,  0.19440982,  0.15435192],\n",
       "       [ 0.25058243,  0.2694044 ,  0.26317754,  0.23621306,  0.19427443]],\n",
       "      dtype=float32)"
      ]
     },
     "execution_count": 20,
     "metadata": {},
     "output_type": "execute_result"
    }
   ],
   "source": [
    "u1[:,:,1]"
   ]
  },
  {
   "cell_type": "code",
   "execution_count": null,
   "metadata": {},
   "outputs": [],
   "source": []
  }
 ],
 "metadata": {
  "kernelspec": {
   "display_name": "Python 3",
   "language": "python",
   "name": "python3"
  },
  "language_info": {
   "codemirror_mode": {
    "name": "ipython",
    "version": 3
   },
   "file_extension": ".py",
   "mimetype": "text/x-python",
   "name": "python",
   "nbconvert_exporter": "python",
   "pygments_lexer": "ipython3",
   "version": "3.7.3"
  }
 },
 "nbformat": 4,
 "nbformat_minor": 2
}
