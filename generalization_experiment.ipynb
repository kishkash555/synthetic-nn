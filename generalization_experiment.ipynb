{
 "cells": [
  {
   "cell_type": "code",
   "execution_count": 1,
   "metadata": {},
   "outputs": [],
   "source": [
    "import train_synthetic_nn as tsn\n",
    "import torch\n",
    "import numpy as np\n",
    "from importlib import reload\n",
    "reload(tsn);"
   ]
  },
  {
   "cell_type": "code",
   "execution_count": 2,
   "metadata": {},
   "outputs": [
    {
     "name": "stdout",
     "output_type": "stream",
     "text": [
      "attrs updated: {'c', 'b2', 'b', 'f', 'a'}\n"
     ]
    }
   ],
   "source": [
    "a, b, f, b2, c, class_assignments, samples = tsn.generate_layers_and_samples(6, 8, 1234)\n",
    "net = tsn.Net(6, 8)\n",
    "net.assign_values_to_layers(a=a, b=b, f=f, b2=b2, c=c)\n"
   ]
  },
  {
   "cell_type": "code",
   "execution_count": 3,
   "metadata": {},
   "outputs": [
    {
     "data": {
      "text/plain": [
       "array([0, 0, 0, 3, 5, 2, 5, 1, 3, 3, 7, 7, 5, 0, 4, 7, 1, 4, 3, 3, 7, 7,\n",
       "       5, 5, 4, 4, 1, 0, 6, 0, 2, 7, 3, 4, 3, 1, 0, 7, 0, 1, 5, 6, 4, 4,\n",
       "       4, 4, 0, 1, 2, 4, 4, 6, 4, 6, 3, 0, 0, 2, 3, 4, 1, 5, 7, 7])"
      ]
     },
     "execution_count": 3,
     "metadata": {},
     "output_type": "execute_result"
    }
   ],
   "source": [
    "class_assignments"
   ]
  },
  {
   "cell_type": "code",
   "execution_count": null,
   "metadata": {},
   "outputs": [],
   "source": [
    "tensor_samples = torch.Tensor(samples.T)\n",
    "trainloader = torch.utils.data.DataLoader(list(zip(tensor_samples, class_assignments)), batch_size=1, shuffle=True, num_workers=0)\n",
    "    "
   ]
  },
  {
   "cell_type": "code",
   "execution_count": 7,
   "metadata": {},
   "outputs": [
    {
     "data": {
      "text/plain": [
       "array([0.09090909, 0.09090909, 0.09090909, 0.        , 0.        ,\n",
       "       0.        , 0.        , 0.        , 0.        , 0.        ,\n",
       "       0.        , 0.        , 0.        , 0.09090909, 0.        ,\n",
       "       0.        , 0.        , 0.        , 0.        , 0.        ,\n",
       "       0.        , 0.        , 0.        , 0.        , 0.        ,\n",
       "       0.        , 0.        , 0.09090909, 0.        , 0.09090909,\n",
       "       0.        , 0.        , 0.        , 0.        , 0.        ,\n",
       "       0.        , 0.09090909, 0.        , 0.09090909, 0.        ,\n",
       "       0.        , 0.        , 0.        , 0.        , 0.        ,\n",
       "       0.        , 0.09090909, 0.        , 0.        , 0.        ,\n",
       "       0.        , 0.        , 0.        , 0.        , 0.        ,\n",
       "       0.09090909, 0.09090909, 0.        , 0.        , 0.        ,\n",
       "       0.        , 0.        , 0.        , 0.        ])"
      ]
     },
     "execution_count": 7,
     "metadata": {},
     "output_type": "execute_result"
    }
   ],
   "source": [
    "c[0,:]"
   ]
  },
  {
   "cell_type": "code",
   "execution_count": null,
   "metadata": {},
   "outputs": [],
   "source": []
  }
 ],
 "metadata": {
  "kernelspec": {
   "display_name": "Python 3",
   "language": "python",
   "name": "python3"
  },
  "language_info": {
   "codemirror_mode": {
    "name": "ipython",
    "version": 3
   },
   "file_extension": ".py",
   "mimetype": "text/x-python",
   "name": "python",
   "nbconvert_exporter": "python",
   "pygments_lexer": "ipython3",
   "version": "3.7.3"
  }
 },
 "nbformat": 4,
 "nbformat_minor": 2
}
