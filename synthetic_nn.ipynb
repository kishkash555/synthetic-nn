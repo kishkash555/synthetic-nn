{
 "cells": [
  {
   "cell_type": "code",
   "execution_count": 112,
   "metadata": {},
   "outputs": [],
   "source": [
    "import numpy as np\n",
    "from numpy import random\n",
    "import matplotlib.pyplot as plt\n",
    "from numpy.linalg import svd\n",
    "from collections import Counter\n",
    "from scipy.special import softmax"
   ]
  },
  {
   "cell_type": "code",
   "execution_count": 22,
   "metadata": {},
   "outputs": [],
   "source": [
    "def bitarray(num):\n",
    "    return np.array(map(int,'{:016b}'.format(num)))\n",
    "\n",
    "def fill_uniform_random(d):\n",
    "    # create a D-dimensional hypercube in the range (-1,1) in each axis\n",
    "    # and place one sample randomly in each bin\n",
    "    samples = 2**d\n",
    "    coords = random.rand(samples,d)\n",
    "    sign_lists= []\n",
    "    for r in range(d-1,-1,-1):\n",
    "        sign_lists.append(([0] * 2**r + [1] * 2**r) * 2**(d-r-1))\n",
    "    \n",
    "    sign_arr = np.array(sign_lists).T*2-1\n",
    "    return coords * sign_arr, sign_arr\n",
    "\n",
    "\n",
    "def orthant_detector_layer(d):\n",
    "    # create a D-dimensional hypercube in the range (-1,1) in each axis\n",
    "    # and place one sample randomly in each bin\n",
    "    sign_lists= []\n",
    "    for r in range(d-1,-1,-1):\n",
    "        sign_lists.append(([0] * 2**r + [1] * 2**r) * 2**(d-r-1))\n",
    "    \n",
    "    sign_arr = np.array(sign_lists).T*2-1\n",
    "    return sign_arr\n",
    "\n"
   ]
  },
  {
   "cell_type": "code",
   "execution_count": 169,
   "metadata": {},
   "outputs": [],
   "source": [
    "def random_transform_matrix(d):\n",
    "    u,w,_ = svd(random.rand(d,d))\n",
    "    return np.matmul(u,np.diag(w)), np.matmul(np.diag(0.2/w),u.T)"
   ]
  },
  {
   "cell_type": "code",
   "execution_count": 16,
   "metadata": {},
   "outputs": [
    {
     "data": {
      "text/plain": [
       "array([[-0.55198919, -0.58055321, -0.00444318],\n",
       "       [-1.20311205,  0.15031833,  0.07831523],\n",
       "       [-0.9448312 ,  0.14776111, -0.09712783]])"
      ]
     },
     "execution_count": 16,
     "metadata": {},
     "output_type": "execute_result"
    }
   ],
   "source": [
    "a,b=random_transform_matrix(3)\n",
    "np.matmul(a,np.diag(b))"
   ]
  },
  {
   "cell_type": "code",
   "execution_count": 20,
   "metadata": {},
   "outputs": [
    {
     "name": "stdout",
     "output_type": "stream",
     "text": [
      "[[-0.70897872 -0.44856906  0.0735389  -0.07829513]\n",
      " [-1.52806388  0.20799945 -0.31018044 -0.00583245]\n",
      " [-0.9282658   0.66084181  0.23792004 -0.01576273]\n",
      " [-1.43657828 -0.42688059  0.13990534  0.05502933]]\n",
      "[[-0.12302113 -0.2651478  -0.16107156 -0.24927333]\n",
      " [-0.51952776  0.24090269  0.76537974 -0.49440842]\n",
      " [ 0.4136062  -1.7445535   1.33813803  0.78687214]\n",
      " [-8.29324153 -0.61778936 -1.66963332  5.82886226]]\n",
      "[[ 1.00000000e+00 -2.08166817e-17  1.38777878e-16 -2.77555756e-16]\n",
      " [-4.85722573e-17  1.00000000e+00 -3.20923843e-16 -4.85722573e-17]\n",
      " [ 8.32667268e-17 -3.76434994e-16  1.00000000e+00 -4.16333634e-17]\n",
      " [-1.66533454e-16 -5.55111512e-17  1.38777878e-17  1.00000000e+00]]\n",
      "[[ 1.00000000e+00  2.77555756e-17 -4.16333634e-17  3.46944695e-18]\n",
      " [ 2.22044605e-16  1.00000000e+00  1.52655666e-16  1.38777878e-17]\n",
      " [-1.55431223e-15  8.32667268e-16  1.00000000e+00 -4.16333634e-17]\n",
      " [ 1.77635684e-15  0.00000000e+00 -8.88178420e-16  1.00000000e+00]]\n"
     ]
    }
   ],
   "source": [
    "a, a_inv = random_transform_matrix(4)\n",
    "print(a)\n",
    "print(a_inv)\n",
    "print(np.matmul(a,a_inv))\n",
    "print(np.matmul(a_inv,a))"
   ]
  },
  {
   "cell_type": "code",
   "execution_count": null,
   "metadata": {},
   "outputs": [],
   "source": [
    "fill_uniform_random(5)"
   ]
  },
  {
   "cell_type": "code",
   "execution_count": null,
   "metadata": {},
   "outputs": [],
   "source": [
    "samples,layer2 = fill_uniform_random(5);\n",
    "#np.tanh(samples*5)"
   ]
  },
  {
   "cell_type": "code",
   "execution_count": null,
   "metadata": {},
   "outputs": [],
   "source": [
    "samples.shape, layer2.shape"
   ]
  },
  {
   "cell_type": "code",
   "execution_count": null,
   "metadata": {},
   "outputs": [],
   "source": [
    "np.argmax(np.matmul(np.tanh(samples*5),layer2.T),axis=1)"
   ]
  },
  {
   "cell_type": "code",
   "execution_count": null,
   "metadata": {},
   "outputs": [],
   "source": [
    "layer2"
   ]
  },
  {
   "cell_type": "code",
   "execution_count": 206,
   "metadata": {},
   "outputs": [],
   "source": [
    "def create_class_assignments(n_samples, n_class):\n",
    "    class_assignments = (random.rand(n_samples-n_class)*8).astype(int)\n",
    "    class_assignments = np.hstack([class_assignments,np.arange(n_class,dtype=int)])\n",
    "    random.shuffle(class_assignments)\n",
    "    return class_assignments\n",
    "    \n",
    "def generate_layers_and_samples(n_dims, n_class):\n",
    "    random.seed(1234)\n",
    "    a, a_inv = random_transform_matrix(n_dims)\n",
    "    b = orthant_detector(n_dims)\n",
    "    n_samples = 2**n_dims\n",
    "    class_assignments = create_class_assignments(n_samples,n_class)    \n",
    "    c = class_assignment_layer(class_assignments)\n",
    "    c = (1/np.sum(c,axis=1)[:,np.newaxis])*c\n",
    "    samples = random.rand(n_samples, n_dims)\n",
    "    samples = samples*b\n",
    "    samples = np.arctanh(samples)\n",
    "    samples = np.matmul(a_inv, samples.T)\n",
    "    return a, b*0.5, c, class_assignments, samples\n",
    "    \n",
    "def class_assignment_layer(class_assignments):\n",
    "    # create a layer that produces the maximum value for the correct class\n",
    "    n_classes = max(class_assignments)+1\n",
    "    n_samples = len(class_assignments)\n",
    "    l = np.tile(class_assignments,(n_classes,1)).astype(np.float)\n",
    "    for i in range(n_classes):\n",
    "        l[i,:] = l[i,:]== i\n",
    "        \n",
    "    return l"
   ]
  },
  {
   "cell_type": "code",
   "execution_count": 207,
   "metadata": {},
   "outputs": [],
   "source": [
    "a, b, c, class_assignments, samples = generate_layers_and_samples(6,6)"
   ]
  },
  {
   "cell_type": "code",
   "execution_count": 208,
   "metadata": {},
   "outputs": [
    {
     "data": {
      "text/plain": [
       "((6, 6), (64, 6), (8, 64), (64,), (6, 64))"
      ]
     },
     "execution_count": 208,
     "metadata": {},
     "output_type": "execute_result"
    }
   ],
   "source": [
    "\n",
    "a.shape, b.shape, c.shape, class_assignments.shape, samples.shape"
   ]
  },
  {
   "cell_type": "code",
   "execution_count": 209,
   "metadata": {},
   "outputs": [],
   "source": [
    "net = lambda s: softmax(np.matmul(c,np.tanh(np.matmul(b, np.tanh(np.matmul(a,s))))))"
   ]
  },
  {
   "cell_type": "code",
   "execution_count": 210,
   "metadata": {},
   "outputs": [],
   "source": [
    "s = samples[:,4:7]"
   ]
  },
  {
   "cell_type": "code",
   "execution_count": 211,
   "metadata": {},
   "outputs": [
    {
     "data": {
      "text/plain": [
       "array([0, 0, 5, 0, 0, 1, 5, 5, 3, 7, 3, 7, 4, 0, 4, 7, 2, 4, 3, 5, 4, 7,\n",
       "       6, 5, 3, 4, 1, 0, 1, 0, 3, 7, 7, 3, 2, 3, 4, 1, 7, 7, 0, 1, 5, 1,\n",
       "       4, 4, 5, 4, 4, 0, 1, 2, 4, 4, 6, 4, 6, 3, 0, 7, 0, 2, 3, 4])"
      ]
     },
     "execution_count": 211,
     "metadata": {},
     "output_type": "execute_result"
    }
   ],
   "source": [
    "class_assignments"
   ]
  },
  {
   "cell_type": "code",
   "execution_count": 212,
   "metadata": {},
   "outputs": [
    {
     "data": {
      "text/plain": [
       "array([False, False,  True, False, False, False,  True,  True,  True,\n",
       "       False,  True,  True, False,  True, False, False, False, False,\n",
       "       False,  True, False, False,  True,  True,  True, False, False,\n",
       "       False, False,  True, False, False, False, False, False, False,\n",
       "       False, False, False, False, False, False,  True, False,  True,\n",
       "        True, False, False, False, False, False, False, False, False,\n",
       "        True, False,  True, False, False, False, False, False,  True,\n",
       "       False])"
      ]
     },
     "execution_count": 212,
     "metadata": {},
     "output_type": "execute_result"
    }
   ],
   "source": [
    "np.argmax(net(samples),axis=0)==class_assignments"
   ]
  },
  {
   "cell_type": "code",
   "execution_count": 254,
   "metadata": {},
   "outputs": [
    {
     "name": "stdout",
     "output_type": "stream",
     "text": [
      "[-1.         -1.         -1.         -0.89083423  1.          1.        ]\n",
      "\n",
      "a2\n",
      "[-0.055  0.045  0.045  0.144 -0.144 -0.045 -0.045  0.055 -0.154 -0.055\n",
      " -0.055  0.045 -0.24  -0.144 -0.144 -0.045 -0.154 -0.055 -0.055  0.045\n",
      " -0.24  -0.144 -0.144 -0.045 -0.25  -0.154 -0.154 -0.055 -0.332 -0.24\n",
      " -0.24  -0.144 -0.154 -0.055 -0.055  0.045 -0.24  -0.144 -0.144 -0.045\n",
      " -0.25  -0.154 -0.154 -0.055 -0.332 -0.24  -0.24  -0.144 -0.25  -0.154\n",
      " -0.154 -0.055 -0.332 -0.24  -0.24  -0.144 -0.341 -0.25  -0.25  -0.154\n",
      " -0.417 -0.332 -0.332 -0.24 ]\n",
      "\n",
      "a3\n",
      "[-0.14 -0.15 -0.15 -0.15 -0.21 -0.05 -0.24 -0.09]\n",
      "\n",
      "0\n"
     ]
    }
   ],
   "source": [
    "k = 3\n",
    "a1 = np.tanh(500*np.matmul(a,samples[:,k]))\n",
    "print(a1)\n",
    "a2 = np.tanh(np.matmul(0.1*b,a1)-0.15)\n",
    "print(\"\\na2\")\n",
    "print(np.array2string(a2,precision=3, suppress_small=True))\n",
    "\n",
    "a3 = np.matmul(c,a2)\n",
    "print(\"\\na3\")\n",
    "print(np.array2string(a3,precision=2, suppress_small=True))\n",
    "print()\n",
    "print(class_assignments[k])"
   ]
  },
  {
   "cell_type": "code",
   "execution_count": 248,
   "metadata": {},
   "outputs": [
    {
     "name": "stdout",
     "output_type": "stream",
     "text": [
      "0.00742774533213985\n"
     ]
    }
   ],
   "source": [
    "print(np.dot(c[0,:],a2))"
   ]
  },
  {
   "cell_type": "code",
   "execution_count": 239,
   "metadata": {},
   "outputs": [
    {
     "name": "stdout",
     "output_type": "stream",
     "text": [
      "[[0.09 0.09 0.   0.09 0.09 0.   0.   0.   0.   0.   0.   0.   0.   0.09\n",
      "  0.   0.   0.   0.   0.   0.   0.   0.   0.   0.   0.   0.   0.   0.09\n",
      "  0.   0.09 0.   0.   0.   0.   0.   0.   0.   0.   0.   0.   0.09 0.\n",
      "  0.   0.   0.   0.   0.   0.   0.   0.09 0.   0.   0.   0.   0.   0.\n",
      "  0.   0.   0.09 0.   0.09 0.   0.   0.  ]\n",
      " [0.   0.   0.   0.   0.   0.14 0.   0.   0.   0.   0.   0.   0.   0.\n",
      "  0.   0.   0.   0.   0.   0.   0.   0.   0.   0.   0.   0.   0.14 0.\n",
      "  0.14 0.   0.   0.   0.   0.   0.   0.   0.   0.14 0.   0.   0.   0.14\n",
      "  0.   0.14 0.   0.   0.   0.   0.   0.   0.14 0.   0.   0.   0.   0.\n",
      "  0.   0.   0.   0.   0.   0.   0.   0.  ]\n",
      " [0.   0.   0.   0.   0.   0.   0.   0.   0.   0.   0.   0.   0.   0.\n",
      "  0.   0.   0.25 0.   0.   0.   0.   0.   0.   0.   0.   0.   0.   0.\n",
      "  0.   0.   0.   0.   0.   0.   0.25 0.   0.   0.   0.   0.   0.   0.\n",
      "  0.   0.   0.   0.   0.   0.   0.   0.   0.   0.25 0.   0.   0.   0.\n",
      "  0.   0.   0.   0.   0.   0.25 0.   0.  ]\n",
      " [0.   0.   0.   0.   0.   0.   0.   0.   0.11 0.   0.11 0.   0.   0.\n",
      "  0.   0.   0.   0.   0.11 0.   0.   0.   0.   0.   0.11 0.   0.   0.\n",
      "  0.   0.   0.11 0.   0.   0.11 0.   0.11 0.   0.   0.   0.   0.   0.\n",
      "  0.   0.   0.   0.   0.   0.   0.   0.   0.   0.   0.   0.   0.   0.\n",
      "  0.   0.11 0.   0.   0.   0.   0.11 0.  ]\n",
      " [0.   0.   0.   0.   0.   0.   0.   0.   0.   0.   0.   0.   0.07 0.\n",
      "  0.07 0.   0.   0.07 0.   0.   0.07 0.   0.   0.   0.   0.07 0.   0.\n",
      "  0.   0.   0.   0.   0.   0.   0.   0.   0.07 0.   0.   0.   0.   0.\n",
      "  0.   0.   0.07 0.07 0.   0.07 0.07 0.   0.   0.   0.07 0.07 0.   0.07\n",
      "  0.   0.   0.   0.   0.   0.   0.   0.07]\n",
      " [0.   0.   0.14 0.   0.   0.   0.14 0.14 0.   0.   0.   0.   0.   0.\n",
      "  0.   0.   0.   0.   0.   0.14 0.   0.   0.   0.14 0.   0.   0.   0.\n",
      "  0.   0.   0.   0.   0.   0.   0.   0.   0.   0.   0.   0.   0.   0.\n",
      "  0.14 0.   0.   0.   0.14 0.   0.   0.   0.   0.   0.   0.   0.   0.\n",
      "  0.   0.   0.   0.   0.   0.   0.   0.  ]\n",
      " [0.   0.   0.   0.   0.   0.   0.   0.   0.   0.   0.   0.   0.   0.\n",
      "  0.   0.   0.   0.   0.   0.   0.   0.   0.33 0.   0.   0.   0.   0.\n",
      "  0.   0.   0.   0.   0.   0.   0.   0.   0.   0.   0.   0.   0.   0.\n",
      "  0.   0.   0.   0.   0.   0.   0.   0.   0.   0.   0.   0.   0.33 0.\n",
      "  0.33 0.   0.   0.   0.   0.   0.   0.  ]\n",
      " [0.   0.   0.   0.   0.   0.   0.   0.   0.   0.11 0.   0.11 0.   0.\n",
      "  0.   0.11 0.   0.   0.   0.   0.   0.11 0.   0.   0.   0.   0.   0.\n",
      "  0.   0.   0.   0.11 0.11 0.   0.   0.   0.   0.   0.11 0.11 0.   0.\n",
      "  0.   0.   0.   0.   0.   0.   0.   0.   0.   0.   0.   0.   0.   0.\n",
      "  0.   0.   0.   0.11 0.   0.   0.   0.  ]]\n"
     ]
    }
   ],
   "source": [
    "print(np.array2string(c,precision=2, suppress_small=True))"
   ]
  },
  {
   "cell_type": "code",
   "execution_count": 176,
   "metadata": {},
   "outputs": [
    {
     "data": {
      "text/plain": [
       "array([5, 1, 7, 3, 3])"
      ]
     },
     "execution_count": 176,
     "metadata": {},
     "output_type": "execute_result"
    }
   ],
   "source": [
    "class_assignments[:5]"
   ]
  },
  {
   "cell_type": "code",
   "execution_count": 177,
   "metadata": {},
   "outputs": [
    {
     "data": {
      "text/plain": [
       "array([0., 0., 1., 0., 0., 0., 0., 1., 1., 0., 1., 0., 1., 0., 0., 0., 0.,\n",
       "       0., 0., 0., 0., 0., 0., 0., 0., 0., 0., 0., 0., 0., 0., 0., 0., 0.,\n",
       "       0., 0., 0., 1., 0., 0., 0., 0., 1., 0., 0., 0., 0., 0., 1., 0., 0.,\n",
       "       0., 0., 0., 0., 0., 1., 0., 0., 0., 0., 1., 0., 0.])"
      ]
     },
     "execution_count": 177,
     "metadata": {},
     "output_type": "execute_result"
    }
   ],
   "source": [
    "c[7,:]"
   ]
  },
  {
   "cell_type": "code",
   "execution_count": 189,
   "metadata": {},
   "outputs": [
    {
     "data": {
      "text/plain": [
       "1.0000000000000002"
      ]
     },
     "execution_count": 189,
     "metadata": {},
     "output_type": "execute_result"
    }
   ],
   "source": [
    "sum(ct[3,:])"
   ]
  },
  {
   "cell_type": "code",
   "execution_count": 184,
   "metadata": {},
   "outputs": [],
   "source": [
    "ct = (1/np.sum(c,axis=1)[:,np.newaxis])*c"
   ]
  },
  {
   "cell_type": "code",
   "execution_count": 161,
   "metadata": {},
   "outputs": [
    {
     "data": {
      "text/plain": [
       "array([[0., 0., 0., 0., 0., 0., 0., 0., 1., 0., 0., 0., 0., 0., 0., 0.,\n",
       "        0., 0., 1., 0., 1., 1., 0., 0., 0., 0., 0., 0., 1., 0., 0., 1.,\n",
       "        0., 1., 0., 0., 0., 0., 0., 0., 0., 1., 0., 0., 0., 0., 0., 0.,\n",
       "        0., 1., 0., 0., 1., 1., 0., 0., 0., 0., 0., 0., 1., 0., 0., 0.],\n",
       "       [0., 0., 0., 0., 0., 0., 0., 0., 0., 0., 0., 0., 0., 0., 0., 1.,\n",
       "        0., 0., 0., 0., 0., 0., 1., 1., 0., 0., 0., 0., 0., 0., 0., 0.,\n",
       "        1., 0., 0., 0., 0., 0., 0., 0., 1., 0., 0., 0., 0., 0., 0., 0.,\n",
       "        0., 0., 0., 0., 0., 0., 0., 0., 0., 1., 0., 0., 0., 0., 0., 1.],\n",
       "       [0., 0., 0., 1., 0., 0., 0., 0., 0., 0., 1., 0., 0., 0., 0., 0.,\n",
       "        1., 0., 0., 0., 0., 0., 0., 0., 0., 0., 1., 1., 0., 0., 0., 0.,\n",
       "        0., 0., 0., 0., 0., 1., 0., 0., 0., 0., 0., 0., 0., 0., 0., 0.,\n",
       "        0., 0., 0., 1., 0., 0., 0., 0., 0., 0., 0., 0., 0., 0., 0., 0.],\n",
       "       [0., 0., 0., 0., 0., 0., 0., 0., 0., 1., 0., 0., 0., 1., 0., 0.,\n",
       "        0., 0., 0., 0., 0., 0., 0., 0., 0., 0., 0., 0., 0., 1., 1., 0.,\n",
       "        0., 0., 0., 0., 0., 0., 0., 0., 0., 0., 1., 0., 0., 0., 0., 0.,\n",
       "        0., 0., 0., 0., 0., 0., 0., 0., 0., 0., 1., 0., 0., 0., 0., 0.],\n",
       "       [0., 0., 0., 0., 0., 0., 0., 0., 0., 0., 0., 0., 0., 0., 1., 0.,\n",
       "        0., 0., 0., 1., 0., 0., 0., 0., 1., 0., 0., 0., 0., 0., 0., 0.,\n",
       "        0., 0., 0., 0., 0., 0., 0., 0., 0., 0., 0., 0., 0., 0., 1., 0.,\n",
       "        0., 0., 0., 0., 0., 0., 0., 0., 0., 0., 0., 0., 0., 0., 0., 0.],\n",
       "       [0., 0., 0., 0., 1., 1., 0., 0., 0., 0., 0., 0., 0., 0., 0., 0.,\n",
       "        0., 1., 0., 0., 0., 0., 0., 0., 0., 0., 0., 0., 0., 0., 0., 0.,\n",
       "        0., 0., 1., 0., 1., 0., 0., 0., 0., 0., 0., 0., 0., 0., 0., 0.,\n",
       "        0., 0., 0., 0., 0., 0., 0., 0., 0., 0., 0., 1., 0., 0., 0., 0.],\n",
       "       [1., 1., 1., 0., 0., 0., 0., 1., 0., 0., 0., 1., 1., 0., 0., 0.,\n",
       "        0., 0., 0., 0., 0., 0., 0., 0., 0., 0., 0., 0., 0., 0., 0., 0.,\n",
       "        0., 0., 0., 0., 0., 0., 0., 0., 0., 0., 0., 0., 0., 0., 0., 1.,\n",
       "        1., 0., 0., 0., 0., 0., 1., 0., 1., 0., 0., 0., 0., 0., 1., 0.],\n",
       "       [0., 0., 0., 0., 0., 0., 1., 0., 0., 0., 0., 0., 0., 0., 0., 0.,\n",
       "        0., 0., 0., 0., 0., 0., 0., 0., 0., 1., 0., 0., 0., 0., 0., 0.,\n",
       "        0., 0., 0., 1., 0., 0., 1., 1., 0., 0., 0., 1., 1., 1., 0., 0.,\n",
       "        0., 0., 1., 0., 0., 0., 0., 1., 0., 0., 0., 0., 0., 1., 0., 0.]])"
      ]
     },
     "execution_count": 161,
     "metadata": {},
     "output_type": "execute_result"
    }
   ],
   "source": [
    "\n",
    "c/np.sum(c,axis=0)"
   ]
  },
  {
   "cell_type": "code",
   "execution_count": 168,
   "metadata": {},
   "outputs": [
    {
     "data": {
      "text/plain": [
       "array([[0.        , 0.        , 0.        , 0.        , 0.        ,\n",
       "        0.        , 0.        , 0.        , 0.08333333, 0.        ,\n",
       "        0.        , 0.        , 0.        , 0.        , 0.        ,\n",
       "        0.        , 0.        , 0.        , 0.08333333, 0.        ,\n",
       "        0.08333333, 0.08333333, 0.        , 0.        , 0.        ,\n",
       "        0.        , 0.        , 0.        , 0.08333333, 0.        ,\n",
       "        0.        , 0.08333333, 0.        , 0.08333333, 0.        ,\n",
       "        0.        , 0.        , 0.        , 0.        , 0.        ,\n",
       "        0.        , 0.08333333, 0.        , 0.        , 0.        ,\n",
       "        0.        , 0.        , 0.        , 0.        , 0.08333333,\n",
       "        0.        , 0.        , 0.08333333, 0.08333333, 0.        ,\n",
       "        0.        , 0.        , 0.        , 0.        , 0.        ,\n",
       "        0.08333333, 0.        , 0.        , 0.        ],\n",
       "       [0.        , 0.        , 0.        , 0.        , 0.        ,\n",
       "        0.        , 0.        , 0.        , 0.        , 0.        ,\n",
       "        0.        , 0.        , 0.        , 0.        , 0.        ,\n",
       "        0.14285714, 0.        , 0.        , 0.        , 0.        ,\n",
       "        0.        , 0.        , 0.14285714, 0.14285714, 0.        ,\n",
       "        0.        , 0.        , 0.        , 0.        , 0.        ,\n",
       "        0.        , 0.        , 0.14285714, 0.        , 0.        ,\n",
       "        0.        , 0.        , 0.        , 0.        , 0.        ,\n",
       "        0.14285714, 0.        , 0.        , 0.        , 0.        ,\n",
       "        0.        , 0.        , 0.        , 0.        , 0.        ,\n",
       "        0.        , 0.        , 0.        , 0.        , 0.        ,\n",
       "        0.        , 0.        , 0.14285714, 0.        , 0.        ,\n",
       "        0.        , 0.        , 0.        , 0.14285714],\n",
       "       [0.        , 0.        , 0.        , 0.14285714, 0.        ,\n",
       "        0.        , 0.        , 0.        , 0.        , 0.        ,\n",
       "        0.14285714, 0.        , 0.        , 0.        , 0.        ,\n",
       "        0.        , 0.14285714, 0.        , 0.        , 0.        ,\n",
       "        0.        , 0.        , 0.        , 0.        , 0.        ,\n",
       "        0.        , 0.14285714, 0.14285714, 0.        , 0.        ,\n",
       "        0.        , 0.        , 0.        , 0.        , 0.        ,\n",
       "        0.        , 0.        , 0.14285714, 0.        , 0.        ,\n",
       "        0.        , 0.        , 0.        , 0.        , 0.        ,\n",
       "        0.        , 0.        , 0.        , 0.        , 0.        ,\n",
       "        0.        , 0.14285714, 0.        , 0.        , 0.        ,\n",
       "        0.        , 0.        , 0.        , 0.        , 0.        ,\n",
       "        0.        , 0.        , 0.        , 0.        ],\n",
       "       [0.        , 0.        , 0.        , 0.        , 0.        ,\n",
       "        0.        , 0.        , 0.        , 0.        , 0.16666667,\n",
       "        0.        , 0.        , 0.        , 0.16666667, 0.        ,\n",
       "        0.        , 0.        , 0.        , 0.        , 0.        ,\n",
       "        0.        , 0.        , 0.        , 0.        , 0.        ,\n",
       "        0.        , 0.        , 0.        , 0.        , 0.16666667,\n",
       "        0.16666667, 0.        , 0.        , 0.        , 0.        ,\n",
       "        0.        , 0.        , 0.        , 0.        , 0.        ,\n",
       "        0.        , 0.        , 0.16666667, 0.        , 0.        ,\n",
       "        0.        , 0.        , 0.        , 0.        , 0.        ,\n",
       "        0.        , 0.        , 0.        , 0.        , 0.        ,\n",
       "        0.        , 0.        , 0.        , 0.16666667, 0.        ,\n",
       "        0.        , 0.        , 0.        , 0.        ],\n",
       "       [0.        , 0.        , 0.        , 0.        , 0.        ,\n",
       "        0.        , 0.        , 0.        , 0.        , 0.        ,\n",
       "        0.        , 0.        , 0.        , 0.        , 0.25      ,\n",
       "        0.        , 0.        , 0.        , 0.        , 0.25      ,\n",
       "        0.        , 0.        , 0.        , 0.        , 0.25      ,\n",
       "        0.        , 0.        , 0.        , 0.        , 0.        ,\n",
       "        0.        , 0.        , 0.        , 0.        , 0.        ,\n",
       "        0.        , 0.        , 0.        , 0.        , 0.        ,\n",
       "        0.        , 0.        , 0.        , 0.        , 0.        ,\n",
       "        0.        , 0.25      , 0.        , 0.        , 0.        ,\n",
       "        0.        , 0.        , 0.        , 0.        , 0.        ,\n",
       "        0.        , 0.        , 0.        , 0.        , 0.        ,\n",
       "        0.        , 0.        , 0.        , 0.        ],\n",
       "       [0.        , 0.        , 0.        , 0.        , 0.16666667,\n",
       "        0.16666667, 0.        , 0.        , 0.        , 0.        ,\n",
       "        0.        , 0.        , 0.        , 0.        , 0.        ,\n",
       "        0.        , 0.        , 0.16666667, 0.        , 0.        ,\n",
       "        0.        , 0.        , 0.        , 0.        , 0.        ,\n",
       "        0.        , 0.        , 0.        , 0.        , 0.        ,\n",
       "        0.        , 0.        , 0.        , 0.        , 0.16666667,\n",
       "        0.        , 0.16666667, 0.        , 0.        , 0.        ,\n",
       "        0.        , 0.        , 0.        , 0.        , 0.        ,\n",
       "        0.        , 0.        , 0.        , 0.        , 0.        ,\n",
       "        0.        , 0.        , 0.        , 0.        , 0.        ,\n",
       "        0.        , 0.        , 0.        , 0.        , 0.16666667,\n",
       "        0.        , 0.        , 0.        , 0.        ],\n",
       "       [0.09090909, 0.09090909, 0.09090909, 0.        , 0.        ,\n",
       "        0.        , 0.        , 0.09090909, 0.        , 0.        ,\n",
       "        0.        , 0.09090909, 0.09090909, 0.        , 0.        ,\n",
       "        0.        , 0.        , 0.        , 0.        , 0.        ,\n",
       "        0.        , 0.        , 0.        , 0.        , 0.        ,\n",
       "        0.        , 0.        , 0.        , 0.        , 0.        ,\n",
       "        0.        , 0.        , 0.        , 0.        , 0.        ,\n",
       "        0.        , 0.        , 0.        , 0.        , 0.        ,\n",
       "        0.        , 0.        , 0.        , 0.        , 0.        ,\n",
       "        0.        , 0.        , 0.09090909, 0.09090909, 0.        ,\n",
       "        0.        , 0.        , 0.        , 0.        , 0.09090909,\n",
       "        0.        , 0.09090909, 0.        , 0.        , 0.        ,\n",
       "        0.        , 0.        , 0.09090909, 0.        ],\n",
       "       [0.        , 0.        , 0.        , 0.        , 0.        ,\n",
       "        0.        , 0.09090909, 0.        , 0.        , 0.        ,\n",
       "        0.        , 0.        , 0.        , 0.        , 0.        ,\n",
       "        0.        , 0.        , 0.        , 0.        , 0.        ,\n",
       "        0.        , 0.        , 0.        , 0.        , 0.        ,\n",
       "        0.09090909, 0.        , 0.        , 0.        , 0.        ,\n",
       "        0.        , 0.        , 0.        , 0.        , 0.        ,\n",
       "        0.09090909, 0.        , 0.        , 0.09090909, 0.09090909,\n",
       "        0.        , 0.        , 0.        , 0.09090909, 0.09090909,\n",
       "        0.09090909, 0.        , 0.        , 0.        , 0.        ,\n",
       "        0.09090909, 0.        , 0.        , 0.        , 0.        ,\n",
       "        0.09090909, 0.        , 0.        , 0.        , 0.        ,\n",
       "        0.        , 0.09090909, 0.        , 0.        ]])"
      ]
     },
     "execution_count": 168,
     "metadata": {},
     "output_type": "execute_result"
    }
   ],
   "source": [
    "np.matmul(np.diag(1/np.sum(c,axis=1)),c)"
   ]
  },
  {
   "cell_type": "code",
   "execution_count": null,
   "metadata": {},
   "outputs": [],
   "source": []
  }
 ],
 "metadata": {
  "kernelspec": {
   "display_name": "Python 3",
   "language": "python",
   "name": "python3"
  },
  "language_info": {
   "codemirror_mode": {
    "name": "ipython",
    "version": 3
   },
   "file_extension": ".py",
   "mimetype": "text/x-python",
   "name": "python",
   "nbconvert_exporter": "python",
   "pygments_lexer": "ipython3",
   "version": "3.7.3"
  }
 },
 "nbformat": 4,
 "nbformat_minor": 2
}
