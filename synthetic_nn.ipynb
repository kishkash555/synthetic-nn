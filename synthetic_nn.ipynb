{
 "cells": [
  {
   "cell_type": "code",
   "execution_count": 40,
   "metadata": {},
   "outputs": [
    {
     "data": {
      "text/plain": [
       "<module 'train_synthetic_nn' from '/home/siegman/Documents/Shahar/Projects/GreedyInit/train_synthetic_nn.py'>"
      ]
     },
     "execution_count": 40,
     "metadata": {},
     "output_type": "execute_result"
    }
   ],
   "source": [
    "import numpy as np\n",
    "from numpy import random\n",
    "import matplotlib.pyplot as plt\n",
    "from numpy.linalg import svd\n",
    "from collections import Counter\n",
    "from scipy.special import softmax\n",
    "import train_synthetic_nn as tsn\n",
    "from importlib import reload\n",
    "reload(tsn)"
   ]
  },
  {
   "cell_type": "code",
   "execution_count": null,
   "metadata": {},
   "outputs": [],
   "source": [
    "def bitarray(num):\n",
    "    return np.array(map(int,'{:016b}'.format(num)))\n"
   ]
  },
  {
   "cell_type": "code",
   "execution_count": null,
   "metadata": {},
   "outputs": [],
   "source": []
  },
  {
   "cell_type": "code",
   "execution_count": 3,
   "metadata": {},
   "outputs": [
    {
     "data": {
      "text/plain": [
       "array([0.1227887 , 0.00499957, 0.11683207])"
      ]
     },
     "execution_count": 3,
     "metadata": {},
     "output_type": "execute_result"
    }
   ],
   "source": [
    "a,b = tsn.random_transform_matrix(3)\n",
    "np.matmul(a,np.diag(b))"
   ]
  },
  {
   "cell_type": "code",
   "execution_count": 6,
   "metadata": {},
   "outputs": [
    {
     "name": "stdout",
     "output_type": "stream",
     "text": [
      "[[-1.30874251 -0.40815523 -0.31821523  0.11184031]\n",
      " [-1.43573995 -0.34589799  0.09638676 -0.14611248]\n",
      " [-1.32248743  0.27965241  0.46410316  0.07785045]\n",
      " [-0.99012006  0.66754822 -0.33904486 -0.03994149]]\n",
      "[[-0.04024753 -0.04415306 -0.04067023 -0.03044899]\n",
      " [-0.10077133 -0.08540035  0.06904467  0.16481406]\n",
      " [-0.14434983  0.04372328  0.21052799 -0.15379864]\n",
      " [ 0.538819   -0.70393389  0.37506425 -0.19242826]]\n",
      "[[2.00000000e-01 1.11022302e-16 4.16333634e-17 3.46944695e-18]\n",
      " [1.11022302e-16 2.00000000e-01 4.85722573e-17 2.08166817e-17]\n",
      " [5.55111512e-17 4.85722573e-17 2.00000000e-01 8.15320034e-17]\n",
      " [1.04083409e-17 1.04083409e-17 6.76542156e-17 2.00000000e-01]]\n",
      "[[ 2.00000000e-01  6.93889390e-18  1.04083409e-17 -3.46944695e-18]\n",
      " [ 1.11022302e-16  2.00000000e-01  1.38777878e-17 -3.46944695e-18]\n",
      " [ 8.32667268e-17  4.16333634e-17  2.00000000e-01 -2.60208521e-18]\n",
      " [-3.05311332e-16 -1.11022302e-16  0.00000000e+00  2.00000000e-01]]\n"
     ]
    }
   ],
   "source": [
    "a, a_inv = tsn.random_transform_matrix(4)\n",
    "print(a)\n",
    "print(a_inv)\n",
    "print(np.matmul(a,a_inv))\n",
    "print(np.matmul(a_inv,a))"
   ]
  },
  {
   "cell_type": "code",
   "execution_count": 7,
   "metadata": {},
   "outputs": [
    {
     "data": {
      "text/plain": [
       "(array([[-0.40522219, -0.10144766, -0.46603895, -0.35682277, -0.7486529 ],\n",
       "        [-0.56046979, -0.28270803, -0.16094759, -0.46722967,  0.88720661],\n",
       "        [-0.45505685, -0.82162775, -0.16556333,  0.7914599 , -0.17597021],\n",
       "        [-0.54903736, -0.64450937, -0.6970087 ,  0.41910858,  0.67132069],\n",
       "        [-0.43239367, -0.64244582,  0.85157969, -0.75797285, -0.41710651],\n",
       "        [-0.8305639 , -0.66178201,  0.27099683, -0.87533799,  0.93686822],\n",
       "        [-0.30770671, -0.20670641,  0.20832248,  0.12122112, -0.28389518],\n",
       "        [-0.30201776, -0.51466412,  0.37457936,  0.43903967,  0.33637402],\n",
       "        [-0.4990146 ,  0.09728804, -0.62819642, -0.84547255, -0.43261779],\n",
       "        [-0.07882635,  0.25840851, -0.81370988, -0.63910902,  0.55004161],\n",
       "        [-0.19768992,  0.15289497, -0.49751331,  0.17901093, -0.72410014],\n",
       "        [-0.862539  ,  0.18469177, -0.93732717,  0.69449898,  0.86460009],\n",
       "        [-0.5884407 ,  0.70059188,  0.26536649, -0.839824  , -0.64699394],\n",
       "        [-0.12337709,  0.64198619,  0.53370372, -0.39357955,  0.74558019],\n",
       "        [-0.9188993 ,  0.92498482,  0.89019848,  0.1422036 , -0.0706573 ],\n",
       "        [-0.80029007,  0.879708  ,  0.62751456,  0.61489868,  0.42072911],\n",
       "        [ 0.3133055 , -0.96655419, -0.1867372 , -0.54889497, -0.85105694],\n",
       "        [ 0.13547853, -0.18366699, -0.07960272, -0.09519345,  0.31004092],\n",
       "        [ 0.36873248, -0.13164945, -0.92750162,  0.11884474, -0.3647964 ],\n",
       "        [ 0.05018683, -0.64500171, -0.00583149,  0.15385846,  0.96974821],\n",
       "        [ 0.55969908, -0.48032407,  0.71801177, -0.76287869, -0.93486058],\n",
       "        [ 0.09543904, -0.51981346,  0.67930175, -0.48193751,  0.02066645],\n",
       "        [ 0.73544725, -0.34197343,  0.2443233 ,  0.14895404, -0.79254295],\n",
       "        [ 0.00909521, -0.31951886,  0.11578958,  0.15120186,  0.45176659],\n",
       "        [ 0.07491248,  0.74937111, -0.80529924, -0.1372653 , -0.64109224],\n",
       "        [ 0.44386663,  0.19245785, -0.40532553, -0.58500375,  0.61543603],\n",
       "        [ 0.67617728,  0.95442769, -0.11295331,  0.43197265, -0.78268476],\n",
       "        [ 0.06019627,  0.37383542, -0.14366325,  0.89744286,  0.26987647],\n",
       "        [ 0.85340621,  0.09518003,  0.47462085, -0.21494281, -0.12402617],\n",
       "        [ 0.72535476,  0.04465613,  0.60881637, -0.173193  ,  0.57819731],\n",
       "        [ 0.07509688,  0.99033605,  0.35881369,  0.01690083, -0.22843032],\n",
       "        [ 0.78878462,  0.59385282,  0.40091134,  0.21404835,  0.68972893]]),\n",
       " array([[-1, -1, -1, -1, -1],\n",
       "        [-1, -1, -1, -1,  1],\n",
       "        [-1, -1, -1,  1, -1],\n",
       "        [-1, -1, -1,  1,  1],\n",
       "        [-1, -1,  1, -1, -1],\n",
       "        [-1, -1,  1, -1,  1],\n",
       "        [-1, -1,  1,  1, -1],\n",
       "        [-1, -1,  1,  1,  1],\n",
       "        [-1,  1, -1, -1, -1],\n",
       "        [-1,  1, -1, -1,  1],\n",
       "        [-1,  1, -1,  1, -1],\n",
       "        [-1,  1, -1,  1,  1],\n",
       "        [-1,  1,  1, -1, -1],\n",
       "        [-1,  1,  1, -1,  1],\n",
       "        [-1,  1,  1,  1, -1],\n",
       "        [-1,  1,  1,  1,  1],\n",
       "        [ 1, -1, -1, -1, -1],\n",
       "        [ 1, -1, -1, -1,  1],\n",
       "        [ 1, -1, -1,  1, -1],\n",
       "        [ 1, -1, -1,  1,  1],\n",
       "        [ 1, -1,  1, -1, -1],\n",
       "        [ 1, -1,  1, -1,  1],\n",
       "        [ 1, -1,  1,  1, -1],\n",
       "        [ 1, -1,  1,  1,  1],\n",
       "        [ 1,  1, -1, -1, -1],\n",
       "        [ 1,  1, -1, -1,  1],\n",
       "        [ 1,  1, -1,  1, -1],\n",
       "        [ 1,  1, -1,  1,  1],\n",
       "        [ 1,  1,  1, -1, -1],\n",
       "        [ 1,  1,  1, -1,  1],\n",
       "        [ 1,  1,  1,  1, -1],\n",
       "        [ 1,  1,  1,  1,  1]]))"
      ]
     },
     "execution_count": 7,
     "metadata": {},
     "output_type": "execute_result"
    }
   ],
   "source": [
    "tsn.fill_uniform_random(5)"
   ]
  },
  {
   "cell_type": "code",
   "execution_count": 8,
   "metadata": {},
   "outputs": [],
   "source": [
    "samples,layer2 = tsn.fill_uniform_random(5);\n",
    "#np.tanh(samples*5)"
   ]
  },
  {
   "cell_type": "code",
   "execution_count": 9,
   "metadata": {},
   "outputs": [
    {
     "data": {
      "text/plain": [
       "((32, 5), (32, 5))"
      ]
     },
     "execution_count": 9,
     "metadata": {},
     "output_type": "execute_result"
    }
   ],
   "source": [
    "samples.shape, layer2.shape"
   ]
  },
  {
   "cell_type": "code",
   "execution_count": 10,
   "metadata": {},
   "outputs": [
    {
     "data": {
      "text/plain": [
       "array([ 0,  1,  2,  3,  4,  5,  6,  7,  8,  9, 10, 11, 12, 13, 14, 15, 16,\n",
       "       17, 18, 19, 20, 21, 22, 23, 24, 25, 26, 27, 28, 29, 30, 31])"
      ]
     },
     "execution_count": 10,
     "metadata": {},
     "output_type": "execute_result"
    }
   ],
   "source": [
    "np.argmax(np.matmul(np.tanh(samples*5),layer2.T),axis=1)"
   ]
  },
  {
   "cell_type": "code",
   "execution_count": null,
   "metadata": {},
   "outputs": [],
   "source": [
    "layer2"
   ]
  },
  {
   "cell_type": "code",
   "execution_count": null,
   "metadata": {},
   "outputs": [],
   "source": []
  },
  {
   "cell_type": "code",
   "execution_count": 37,
   "metadata": {},
   "outputs": [],
   "source": [
    "a, b,f, b2, c, class_assignments, samples = tsn.generate_layers_and_samples(6,6)"
   ]
  },
  {
   "cell_type": "code",
   "execution_count": 21,
   "metadata": {},
   "outputs": [
    {
     "data": {
      "text/plain": [
       "((6, 6), (64, 6), (64,), (6, 64), (64,), (6, 64))"
      ]
     },
     "execution_count": 21,
     "metadata": {},
     "output_type": "execute_result"
    }
   ],
   "source": [
    "\n",
    "a.shape, b.shape, b2.shape, c.shape, class_assignments.shape, samples.shape"
   ]
  },
  {
   "cell_type": "code",
   "execution_count": 23,
   "metadata": {},
   "outputs": [
    {
     "data": {
      "text/plain": [
       "array([[0.07692308, 0.07692308, 0.        , 0.07692308, 0.07692308,\n",
       "        0.        , 0.        , 0.        , 0.        , 0.        ,\n",
       "        0.        , 0.        , 0.        , 0.07692308, 0.        ,\n",
       "        0.        , 0.        , 0.        , 0.        , 0.        ,\n",
       "        0.        , 0.        , 0.        , 0.        , 0.        ,\n",
       "        0.        , 0.        , 0.07692308, 0.07692308, 0.07692308,\n",
       "        0.        , 0.        , 0.        , 0.        , 0.        ,\n",
       "        0.        , 0.        , 0.        , 0.        , 0.        ,\n",
       "        0.07692308, 0.        , 0.        , 0.07692308, 0.        ,\n",
       "        0.        , 0.        , 0.        , 0.        , 0.07692308,\n",
       "        0.        , 0.        , 0.        , 0.        , 0.        ,\n",
       "        0.        , 0.        , 0.        , 0.07692308, 0.        ,\n",
       "        0.07692308, 0.        , 0.        , 0.        ],\n",
       "       [0.        , 0.        , 0.        , 0.        , 0.        ,\n",
       "        0.125     , 0.        , 0.        , 0.        , 0.        ,\n",
       "        0.        , 0.        , 0.        , 0.        , 0.        ,\n",
       "        0.        , 0.        , 0.        , 0.        , 0.        ,\n",
       "        0.        , 0.        , 0.        , 0.        , 0.        ,\n",
       "        0.        , 0.125     , 0.        , 0.        , 0.        ,\n",
       "        0.        , 0.        , 0.        , 0.        , 0.125     ,\n",
       "        0.        , 0.        , 0.125     , 0.        , 0.        ,\n",
       "        0.        , 0.125     , 0.        , 0.        , 0.        ,\n",
       "        0.        , 0.        , 0.        , 0.        , 0.        ,\n",
       "        0.125     , 0.125     , 0.        , 0.        , 0.        ,\n",
       "        0.        , 0.        , 0.        , 0.        , 0.        ,\n",
       "        0.        , 0.125     , 0.        , 0.        ],\n",
       "       [0.        , 0.        , 0.        , 0.        , 0.        ,\n",
       "        0.        , 0.        , 0.        , 0.11111111, 0.        ,\n",
       "        0.11111111, 0.        , 0.        , 0.        , 0.        ,\n",
       "        0.        , 0.11111111, 0.        , 0.11111111, 0.        ,\n",
       "        0.        , 0.        , 0.        , 0.        , 0.        ,\n",
       "        0.        , 0.        , 0.        , 0.        , 0.        ,\n",
       "        0.11111111, 0.        , 0.        , 0.11111111, 0.        ,\n",
       "        0.11111111, 0.        , 0.        , 0.        , 0.        ,\n",
       "        0.        , 0.        , 0.        , 0.        , 0.        ,\n",
       "        0.        , 0.        , 0.        , 0.        , 0.        ,\n",
       "        0.        , 0.        , 0.        , 0.        , 0.        ,\n",
       "        0.        , 0.        , 0.11111111, 0.        , 0.        ,\n",
       "        0.        , 0.        , 0.11111111, 0.        ],\n",
       "       [0.        , 0.        , 0.        , 0.        , 0.        ,\n",
       "        0.        , 0.        , 0.0625    , 0.        , 0.        ,\n",
       "        0.        , 0.        , 0.        , 0.        , 0.0625    ,\n",
       "        0.        , 0.        , 0.0625    , 0.        , 0.0625    ,\n",
       "        0.0625    , 0.        , 0.        , 0.        , 0.0625    ,\n",
       "        0.0625    , 0.        , 0.        , 0.        , 0.        ,\n",
       "        0.        , 0.        , 0.        , 0.        , 0.        ,\n",
       "        0.        , 0.0625    , 0.        , 0.        , 0.        ,\n",
       "        0.        , 0.        , 0.        , 0.        , 0.0625    ,\n",
       "        0.0625    , 0.        , 0.0625    , 0.0625    , 0.        ,\n",
       "        0.        , 0.        , 0.0625    , 0.0625    , 0.        ,\n",
       "        0.0625    , 0.        , 0.        , 0.        , 0.        ,\n",
       "        0.        , 0.        , 0.        , 0.0625    ],\n",
       "       [0.        , 0.        , 0.125     , 0.        , 0.        ,\n",
       "        0.        , 0.125     , 0.        , 0.        , 0.        ,\n",
       "        0.        , 0.        , 0.125     , 0.        , 0.        ,\n",
       "        0.        , 0.        , 0.        , 0.        , 0.        ,\n",
       "        0.        , 0.        , 0.125     , 0.125     , 0.        ,\n",
       "        0.        , 0.        , 0.        , 0.        , 0.        ,\n",
       "        0.        , 0.        , 0.        , 0.        , 0.        ,\n",
       "        0.        , 0.        , 0.        , 0.        , 0.        ,\n",
       "        0.        , 0.        , 0.125     , 0.        , 0.        ,\n",
       "        0.        , 0.        , 0.        , 0.        , 0.        ,\n",
       "        0.        , 0.        , 0.        , 0.        , 0.125     ,\n",
       "        0.        , 0.125     , 0.        , 0.        , 0.        ,\n",
       "        0.        , 0.        , 0.        , 0.        ],\n",
       "       [0.        , 0.        , 0.        , 0.        , 0.        ,\n",
       "        0.        , 0.        , 0.        , 0.        , 0.1       ,\n",
       "        0.        , 0.1       , 0.        , 0.        , 0.        ,\n",
       "        0.1       , 0.        , 0.        , 0.        , 0.        ,\n",
       "        0.        , 0.1       , 0.        , 0.        , 0.        ,\n",
       "        0.        , 0.        , 0.        , 0.        , 0.        ,\n",
       "        0.        , 0.1       , 0.1       , 0.        , 0.        ,\n",
       "        0.        , 0.        , 0.        , 0.1       , 0.1       ,\n",
       "        0.        , 0.        , 0.        , 0.        , 0.        ,\n",
       "        0.        , 0.1       , 0.        , 0.        , 0.        ,\n",
       "        0.        , 0.        , 0.        , 0.        , 0.        ,\n",
       "        0.        , 0.        , 0.        , 0.        , 0.1       ,\n",
       "        0.        , 0.        , 0.        , 0.        ]])"
      ]
     },
     "execution_count": 23,
     "metadata": {},
     "output_type": "execute_result"
    }
   ],
   "source": [
    "c"
   ]
  },
  {
   "cell_type": "code",
   "execution_count": 24,
   "metadata": {},
   "outputs": [
    {
     "data": {
      "text/plain": [
       "(64,)"
      ]
     },
     "execution_count": 24,
     "metadata": {},
     "output_type": "execute_result"
    }
   ],
   "source": [
    "b2.shape"
   ]
  },
  {
   "cell_type": "code",
   "execution_count": 78,
   "metadata": {},
   "outputs": [],
   "source": [
    "a, b,f, b2, c, class_assignments, samples = tsn.generate_layers_and_samples(6,12,12422)"
   ]
  },
  {
   "cell_type": "code",
   "execution_count": 79,
   "metadata": {},
   "outputs": [],
   "source": [
    "net = tsn.network(a, b, f, b2, c)\n"
   ]
  },
  {
   "cell_type": "code",
   "execution_count": 80,
   "metadata": {},
   "outputs": [
    {
     "data": {
      "text/plain": [
       "array([ True,  True,  True,  True, False,  True,  True,  True,  True,\n",
       "        True,  True,  True,  True,  True,  True,  True,  True,  True,\n",
       "        True,  True,  True,  True,  True,  True,  True,  True,  True,\n",
       "        True,  True,  True,  True,  True,  True,  True,  True,  True,\n",
       "        True,  True,  True,  True,  True,  True,  True,  True,  True,\n",
       "        True,  True,  True,  True,  True,  True,  True,  True,  True,\n",
       "        True,  True,  True,  True,  True,  True,  True,  True,  True,\n",
       "        True])"
      ]
     },
     "execution_count": 80,
     "metadata": {},
     "output_type": "execute_result"
    }
   ],
   "source": [
    "np.argmax(net(samples),axis=0)==class_assignments"
   ]
  },
  {
   "cell_type": "code",
   "execution_count": null,
   "metadata": {},
   "outputs": [],
   "source": [
    "# def eval_network(x):\n",
    "#         x = np.tanh(np.matmul(a,x))\n",
    "#         x = np.tanh(np.matmul(b,x)+f)\n",
    "#         x = np.tanh(b2 * x)\n",
    "#         #x = np.tanh(np.matmul(b2,x))\n",
    "#         x = softmax(np.matmul(c,x))\n",
    "#         return x\n",
    "#     return eval_network\n"
   ]
  },
  {
   "cell_type": "code",
   "execution_count": null,
   "metadata": {},
   "outputs": [],
   "source": []
  },
  {
   "cell_type": "code",
   "execution_count": null,
   "metadata": {},
   "outputs": [],
   "source": [
    "k = 5\n",
    "y = net(samples[:,k])\n",
    "print(y)\n",
    "print(np.argmax(y))\n",
    "print(class_assignments[k])"
   ]
  },
  {
   "cell_type": "code",
   "execution_count": null,
   "metadata": {},
   "outputs": [],
   "source": [
    "k = 3\n",
    "a1 = np.tanh(500*np.matmul(a,samples[:,k]))\n",
    "print(a1)\n",
    "a2 = np.tanh(np.matmul(b,a1)-0.25)\n",
    "print(\"\\na2\")\n",
    "print(np.array2string(a2,precision=3, suppress_small=True))\n",
    "a2a = np.tanh(a2*18)\n",
    "print(\"\\na2a\")\n",
    "print(np.array2string(a2a,precision=3, suppress_small=True))\n",
    "c=bc\n",
    "c[c==0] = 0\n",
    "a3 = np.matmul(c,a2a)\n",
    "print(\"\\na3\")\n",
    "print(np.array2string(a3,precision=4, suppress_small=True))\n",
    "print()\n",
    "print(class_assignments[k])"
   ]
  },
  {
   "cell_type": "code",
   "execution_count": null,
   "metadata": {},
   "outputs": [],
   "source": [
    "c"
   ]
  },
  {
   "cell_type": "code",
   "execution_count": null,
   "metadata": {},
   "outputs": [],
   "source": [
    "print(a2[class_assignments==0], sum(a2[class_assignments==0]))\n",
    "print(a2[class_assignments==5], sum(a2[class_assignments==5]))"
   ]
  },
  {
   "cell_type": "code",
   "execution_count": null,
   "metadata": {},
   "outputs": [],
   "source": [
    "print(a2a[class_assignments==0]+1, np.mean(a2a[class_assignments==0]+1))\n",
    "print(a2a[class_assignments==5]+1, np.mean(a2a[class_assignments==5]+1))"
   ]
  },
  {
   "cell_type": "code",
   "execution_count": null,
   "metadata": {},
   "outputs": [],
   "source": [
    "print(np.dot(c[0,:],a2))"
   ]
  },
  {
   "cell_type": "code",
   "execution_count": null,
   "metadata": {},
   "outputs": [],
   "source": [
    "print(np.array2string(c,precision=2, suppress_small=True))"
   ]
  },
  {
   "cell_type": "code",
   "execution_count": null,
   "metadata": {},
   "outputs": [],
   "source": [
    "class_assignments[:5]"
   ]
  },
  {
   "cell_type": "code",
   "execution_count": null,
   "metadata": {},
   "outputs": [],
   "source": [
    "c[7,:]"
   ]
  },
  {
   "cell_type": "code",
   "execution_count": null,
   "metadata": {},
   "outputs": [],
   "source": [
    "sum(ct[3,:])"
   ]
  },
  {
   "cell_type": "code",
   "execution_count": null,
   "metadata": {},
   "outputs": [],
   "source": [
    "ct = (1/np.sum(c,axis=1)[:,np.newaxis])*c"
   ]
  },
  {
   "cell_type": "code",
   "execution_count": null,
   "metadata": {},
   "outputs": [],
   "source": [
    "\n",
    "c/np.sum(c,axis=0)"
   ]
  },
  {
   "cell_type": "code",
   "execution_count": null,
   "metadata": {},
   "outputs": [],
   "source": [
    "np.matmul(np.diag(1/np.sum(c,axis=1)),c)"
   ]
  },
  {
   "cell_type": "code",
   "execution_count": null,
   "metadata": {},
   "outputs": [],
   "source": []
  }
 ],
 "metadata": {
  "kernelspec": {
   "display_name": "Python 3",
   "language": "python",
   "name": "python3"
  },
  "language_info": {
   "codemirror_mode": {
    "name": "ipython",
    "version": 3
   },
   "file_extension": ".py",
   "mimetype": "text/x-python",
   "name": "python",
   "nbconvert_exporter": "python",
   "pygments_lexer": "ipython3",
   "version": "3.7.3"
  }
 },
 "nbformat": 4,
 "nbformat_minor": 2
}
